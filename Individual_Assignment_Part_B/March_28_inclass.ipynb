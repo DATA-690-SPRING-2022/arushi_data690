{
  "nbformat": 4,
  "nbformat_minor": 0,
  "metadata": {
    "colab": {
      "name": "March_28_inclass.ipynb",
      "provenance": [],
      "authorship_tag": "ABX9TyMl/E0rKX2BEyFvzeiylYiN",
      "include_colab_link": true
    },
    "kernelspec": {
      "name": "python3",
      "display_name": "Python 3"
    },
    "language_info": {
      "name": "python"
    }
  },
  "cells": [
    {
      "cell_type": "markdown",
      "metadata": {
        "id": "view-in-github",
        "colab_type": "text"
      },
      "source": [
        "<a href=\"https://colab.research.google.com/github/ArushiAg22/arushi_data690/blob/main/Individual_Assignment_Part_B/March_28_inclass.ipynb\" target=\"_parent\"><img src=\"https://colab.research.google.com/assets/colab-badge.svg\" alt=\"Open In Colab\"/></a>"
      ]
    },
    {
      "cell_type": "markdown",
      "source": [
        "# **In Class Session**\n",
        "\n",
        "**Name:** Arushi Agarwal\n",
        "\n",
        "**Date:** 03/28/2022"
      ],
      "metadata": {
        "id": "ASIVD6N50qBS"
      }
    },
    {
      "cell_type": "code",
      "source": [
        "import random"
      ],
      "metadata": {
        "id": "STgqvRsY3mCf"
      },
      "execution_count": 26,
      "outputs": []
    },
    {
      "cell_type": "code",
      "execution_count": 27,
      "metadata": {
        "colab": {
          "base_uri": "https://localhost:8080/"
        },
        "id": "wW9hWkp-0hdY",
        "outputId": "f794313b-638a-41a0-ae13-38ff77cddb35"
      },
      "outputs": [
        {
          "output_type": "stream",
          "name": "stdout",
          "text": [
            "A\n"
          ]
        }
      ],
      "source": [
        "team = ['A', 'B', 'C', 'D']\n",
        "\n",
        "a = random.choice(team)\n",
        "print(a)"
      ]
    },
    {
      "cell_type": "code",
      "source": [
        "team_dict = {\n",
        "    \"A\":0,\n",
        "    \"B\":0,\n",
        "    \"C\":0,\n",
        "    \"D\":0\n",
        "    }\n",
        "\n",
        "for i in range(10):\n",
        "\n",
        "  team_dict[random.choice(list(team_dict.keys()))] += 1\n",
        "\n",
        "print(team_dict)"
      ],
      "metadata": {
        "colab": {
          "base_uri": "https://localhost:8080/"
        },
        "id": "fduU4JdP2C70",
        "outputId": "bc564005-81e3-4cd7-8fc1-8870a3914304"
      },
      "execution_count": 40,
      "outputs": [
        {
          "output_type": "stream",
          "name": "stdout",
          "text": [
            "{'A': 4, 'B': 2, 'C': 3, 'D': 1}\n"
          ]
        }
      ]
    },
    {
      "cell_type": "code",
      "source": [
        ""
      ],
      "metadata": {
        "id": "X9NM-LwM4-5O"
      },
      "execution_count": 40,
      "outputs": []
    }
  ]
}